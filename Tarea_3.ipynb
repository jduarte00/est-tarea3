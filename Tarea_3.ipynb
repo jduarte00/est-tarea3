{
 "cells": [
  {
   "cell_type": "code",
   "execution_count": 1,
   "metadata": {
    "id": "zFm26DjmAPhs"
   },
   "outputs": [],
   "source": [
    "import numpy as np\n",
    "import seaborn as sns\n",
    "import matplotlib.pyplot as plt\n"
   ]
  },
  {
   "cell_type": "code",
   "execution_count": 27,
   "metadata": {
    "id": "FXe0YBLwAiIB"
   },
   "outputs": [],
   "source": [
    "todas_diff = []\n",
    "for i in range(0, 1000):\n",
    "  mat_h = np.random.randn(100,100)\n",
    "  mat_h_s = (mat_h + mat_h.T) / 2\n",
    "  eigenvals = np.linalg.eigvals(mat_h_s)\n",
    "  eigenvals[::-1].sort()\n",
    "  difs = np.diff(eigenvals) * -1\n",
    "  todas_diff.append(difs)\n",
    "  "
   ]
  },
  {
   "cell_type": "code",
   "execution_count": 28,
   "metadata": {
    "id": "kj4WMh2uDg2p"
   },
   "outputs": [],
   "source": [
    "todas_diff = np.array(todas_diff)\n",
    "todas_diff = todas_diff.flatten()\n",
    "todas_diff = todas_diff / np.mean(todas_diff)\n",
    "#todas_diff = (todas_diff - np.mean(todas_diff)) / np.std(todas_diff)"
   ]
  },
  {
   "cell_type": "code",
   "execution_count": 29,
   "metadata": {
    "id": "SOH9nkjGE75Z"
   },
   "outputs": [],
   "source": [
    "rango = np.linspace(np.min(todas_diff), np.max(todas_diff), 200)\n",
    "wigner = (np.pi *rango /2.0)*np.exp((- np.pi * (rango ** 2))/(4.0))"
   ]
  },
  {
   "cell_type": "code",
   "execution_count": 30,
   "metadata": {
    "colab": {
     "base_uri": "https://localhost:8080/",
     "height": 282
    },
    "id": "XauO5XEVDiLP",
    "outputId": "18350723-75b2-4682-aff1-d277bef00818"
   },
   "outputs": [
    {
     "data": {
      "text/plain": [
       "[<matplotlib.lines.Line2D at 0x7fa84d270040>]"
      ]
     },
     "execution_count": 30,
     "metadata": {},
     "output_type": "execute_result"
    },
    {
     "data": {
      "image/png": "[encoded data removed]",
      "text/plain": [
       "<Figure size 432x288 with 1 Axes>"
      ]
     },
     "metadata": {
      "needs_background": "light"
     },
     "output_type": "display_data"
    }
   ],
   "source": [
    "sns.histplot(data = todas_diff, stat = \"density\", element = \"step\", fill = False, label=\"Dist. Emp\",common_norm=False)\n",
    "plt.plot(rango, wigner,label=r\"Wigner\")"
   ]
  },
  {
   "cell_type": "code",
   "execution_count": null,
   "metadata": {
    "colab": {
     "base_uri": "https://localhost:8080/"
    },
    "id": "HxA9jiVhH6QJ",
    "outputId": "9d7fe967-dbc8-470d-ccb8-e1b65ad3f4db"
   },
   "outputs": [
    {
     "name": "stdout",
     "output_type": "stream",
     "text": [
      "0.11.1\n"
     ]
    }
   ],
   "source": [
    "print(sns.__version__)"
   ]
  },
  {
   "cell_type": "code",
   "execution_count": null,
   "metadata": {
    "colab": {
     "base_uri": "https://localhost:8080/"
    },
    "id": "oY0trSwlD02c",
    "outputId": "c01fd800-aceb-423a-94b8-a06134269f2e"
   },
   "outputs": [
    {
     "data": {
      "text/plain": [
       "0.8392253488629802"
      ]
     },
     "execution_count": 7,
     "metadata": {},
     "output_type": "execute_result"
    }
   ],
   "source": [
    "eigenvals[0] - eigenvals[1]"
   ]
  },
  {
   "cell_type": "code",
   "execution_count": null,
   "metadata": {
    "colab": {
     "base_uri": "https://localhost:8080/"
    },
    "id": "00xuDOsMDt8O",
    "outputId": "eede231d-892a-4388-e81c-8ed56955bd7b"
   },
   "outputs": [
    {
     "data": {
      "text/plain": [
       "array([-0.83922535, -0.5080204 , -0.26088989, -0.10192363, -0.35165927,\n",
       "       -0.75210219, -0.16187348, -0.37197875, -0.20919246, -0.39820667,\n",
       "       -0.06385402, -0.12624997, -0.56740501, -0.35602354, -0.08246779,\n",
       "       -0.27705933, -0.41805013, -0.34741075, -0.19915639, -0.06907916,\n",
       "       -0.26065497, -0.55844139, -0.10866605, -0.04099099, -0.28876305,\n",
       "       -0.45442124, -0.16209946, -0.04609704, -0.24196735, -0.3563882 ,\n",
       "       -0.10481189, -0.42449733, -0.28522622, -0.10635062, -0.35169744,\n",
       "       -0.27903775, -0.28780498, -0.18908664, -0.15224728, -0.09827436,\n",
       "       -0.30103755, -0.05481053, -0.15299565, -0.19384358, -0.34249348,\n",
       "       -0.51762075, -0.26725838, -0.14989795, -0.19504525, -0.20252104,\n",
       "       -0.07036725, -0.22929024, -0.12957677, -0.13878121, -0.15967276,\n",
       "       -0.201835  , -0.35613119, -0.21087431, -0.36660852, -0.17195979,\n",
       "       -0.29840715, -0.1669132 , -0.12933475, -0.07651339, -0.3363087 ,\n",
       "       -0.24195011, -0.33709654, -0.13261811, -0.32066004, -0.19983648,\n",
       "       -0.13426044, -0.36735264, -0.28398604, -0.0803429 , -0.11346932,\n",
       "       -0.30866965, -0.37249023, -0.31814293, -0.2196995 , -0.55009813,\n",
       "       -0.11016969, -0.17724505, -0.40692884, -0.19749604, -0.11640681,\n",
       "       -0.3814341 , -0.31629626, -0.50411586, -0.33769824, -0.09323269,\n",
       "       -0.4193655 , -0.55121981, -0.29183637, -0.36544446, -0.49915576,\n",
       "       -0.81788574, -0.24392258, -0.23900852, -0.99964411])"
      ]
     },
     "execution_count": 6,
     "metadata": {},
     "output_type": "execute_result"
    }
   ],
   "source": [
    "np.diff(eigenvals)"
   ]
  },
  {
   "cell_type": "code",
   "execution_count": null,
   "metadata": {
    "id": "oj5UFiDxDuyI"
   },
   "outputs": [],
   "source": []
  }
 ],
 "metadata": {
  "colab": {
   "collapsed_sections": [],
   "name": "Tarea 3",
   "provenance": []
  },
  "kernelspec": {
   "display_name": "Python 3 (ipykernel)",
   "language": "python",
   "name": "python3"
  },
  "language_info": {
   "codemirror_mode": {
    "name": "ipython",
    "version": 3
   },
   "file_extension": ".py",
   "mimetype": "text/x-python",
   "name": "python",
   "nbconvert_exporter": "python",
   "pygments_lexer": "ipython3",
   "version": "3.9.6"
  }
 },
 "nbformat": 4,
 "nbformat_minor": 4
}
